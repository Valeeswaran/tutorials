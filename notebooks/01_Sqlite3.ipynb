{
 "cells": [
  {
   "cell_type": "markdown",
   "id": "df0020f2",
   "metadata": {},
   "source": [
    "## SQLite Database"
   ]
  },
  {
   "cell_type": "markdown",
   "id": "c5a6c57c",
   "metadata": {},
   "source": [
    "### import package"
   ]
  },
  {
   "cell_type": "code",
   "execution_count": 1,
   "id": "695a713c",
   "metadata": {},
   "outputs": [],
   "source": [
    "# import sqlite3 package\n",
    "import sqlite3"
   ]
  },
  {
   "cell_type": "markdown",
   "id": "d18996ef",
   "metadata": {},
   "source": [
    "### connect to database"
   ]
  },
  {
   "cell_type": "code",
   "execution_count": 2,
   "id": "e1e0d265",
   "metadata": {},
   "outputs": [],
   "source": [
    "# create a connection to a database : create the database if not available\n",
    "connection = sqlite3.connect(\"classroomDB.db\")\n",
    "connection.close()"
   ]
  },
  {
   "cell_type": "markdown",
   "id": "5b94e416",
   "metadata": {},
   "source": [
    "### create table"
   ]
  },
  {
   "cell_type": "code",
   "execution_count": 3,
   "id": "2882ef99",
   "metadata": {},
   "outputs": [],
   "source": [
    "# open connection\n",
    "connection = sqlite3.connect(\"classroomDB.db\")\n",
    "# open cursor\n",
    "cursor = connection.cursor()\n",
    "# query for createing table\n",
    "create_table = \"\"\"\n",
    "                CREATE TABLE classroom (\n",
    "                student_id INTEGER PRIMARY KEY,\n",
    "                name VARCHAR(50),\n",
    "                gender CHAR(1),\n",
    "                physics_marks INTEGER,\n",
    "                chemistry_marks INTEGER,\n",
    "                mathematics_marks INTEGER\n",
    ");\"\"\"\n",
    "# execute query\n",
    "cursor.execute(create_table)\n",
    "# commit changes\n",
    "connection.commit()\n",
    "#close connection\n",
    "connection.close()"
   ]
  },
  {
   "cell_type": "markdown",
   "id": "6982adb0",
   "metadata": {},
   "source": [
    "### insert data"
   ]
  },
  {
   "cell_type": "code",
   "execution_count": 5,
   "id": "795626c0",
   "metadata": {},
   "outputs": [],
   "source": [
    "# sample data\n",
    "classroom_data = [(1, \"Valee\", \"M\", 99,98,92),\n",
    "                 (2, \"Bhuvana\", \"F\", 89, 97,60),\n",
    "                 (3, \"Rishi\", \"M\", 99,99,99),\n",
    "                 (4, \"Vaishu\", \"F\", 80,90,100)]\n",
    "#open connection\n",
    "connection = sqlite3.connect(\"classroomDB.db\")\n",
    "#open cursor\n",
    "cursor = connection.cursor()\n",
    "# insert each student records\n",
    "for student in classroom_data:\n",
    "    insert_statement = \"\"\"INSERT INTO classroom\n",
    "    (student_id, name, gender, physics_marks, chemistry_marks, mathematics_marks)\n",
    "    VALUES\n",
    "    ({0}, \"{1}\", \"{2}\", \"{3}\", \"{4}\", \"{5}\");\"\"\".format(student[0], student[1], student[2], \n",
    "                                                        student[3], student[4], student[5])\n",
    "    # execute insert query\n",
    "    cursor.execute(insert_statement)\n",
    "\n",
    "# commit the changes\n",
    "connection.commit()\n",
    "#close the connection\n",
    "connection.close()\n"
   ]
  },
  {
   "cell_type": "markdown",
   "id": "81762a82",
   "metadata": {},
   "source": [
    "### extract data"
   ]
  },
  {
   "cell_type": "code",
   "execution_count": 6,
   "id": "b65cf0e9",
   "metadata": {},
   "outputs": [
    {
     "name": "stdout",
     "output_type": "stream",
     "text": [
      "(1, 'Valee', 'M', 99, 98, 92)\n",
      "(2, 'Bhuvana', 'F', 89, 97, 60)\n",
      "(3, 'Rishi', 'M', 99, 99, 99)\n",
      "(4, 'Vaishu', 'F', 80, 90, 100)\n"
     ]
    }
   ],
   "source": [
    "# open connection\n",
    "connection = sqlite3.connect(\"classroomDB.db\")\n",
    "#open cursor\n",
    "cursor = connection.cursor()\n",
    "# query\n",
    "query = \"SELECT * FROM classroom\"\n",
    "#execute query\n",
    "cursor.execute(query)\n",
    "# fetch results\n",
    "result = cursor.fetchall()\n",
    "for row in result:\n",
    "    print(row)\n",
    "\n",
    "# close connction\n",
    "connection.close()"
   ]
  },
  {
   "cell_type": "markdown",
   "id": "efa14c0b",
   "metadata": {},
   "source": [
    "### other database connection packages\n"
   ]
  },
  {
   "cell_type": "code",
   "execution_count": 14,
   "id": "c9550343",
   "metadata": {},
   "outputs": [],
   "source": [
    "# to connect the mysql database \n",
    "import pymysql"
   ]
  },
  {
   "cell_type": "code",
   "execution_count": 8,
   "id": "440e2712",
   "metadata": {},
   "outputs": [
    {
     "name": "stdout",
     "output_type": "stream",
     "text": [
      "Collecting pymysql\n",
      "  Downloading PyMySQL-1.0.2-py3-none-any.whl (43 kB)\n",
      "Installing collected packages: pymysql\n",
      "Successfully installed pymysql-1.0.2\n",
      "Note: you may need to restart the kernel to use updated packages.\n"
     ]
    }
   ],
   "source": [
    "pip install pymysql"
   ]
  },
  {
   "cell_type": "code",
   "execution_count": 9,
   "id": "4a5a65b5",
   "metadata": {},
   "outputs": [],
   "source": [
    "import pymysql\n"
   ]
  },
  {
   "cell_type": "code",
   "execution_count": 13,
   "id": "303fbac5",
   "metadata": {},
   "outputs": [],
   "source": [
    "# to connect the Microsoft SQL database MSSQL\n",
    "import pymssql"
   ]
  },
  {
   "cell_type": "code",
   "execution_count": 11,
   "id": "b33ae6d2",
   "metadata": {},
   "outputs": [
    {
     "name": "stdout",
     "output_type": "stream",
     "text": [
      "Collecting pymssql\n",
      "  Downloading pymssql-2.2.3-cp37-cp37m-win32.whl (1.2 MB)\n",
      "Note: you may need to restart the kernel to use updated packages.Installing collected packages: pymssql\n",
      "Successfully installed pymssql-2.2.3\n",
      "\n"
     ]
    }
   ],
   "source": [
    "pip install pymssql"
   ]
  },
  {
   "cell_type": "code",
   "execution_count": 12,
   "id": "9142f30e",
   "metadata": {},
   "outputs": [],
   "source": [
    "import pymssql"
   ]
  },
  {
   "cell_type": "code",
   "execution_count": null,
   "id": "e7d95d54",
   "metadata": {},
   "outputs": [],
   "source": []
  }
 ],
 "metadata": {
  "kernelspec": {
   "display_name": "Python 3 (ipykernel)",
   "language": "python",
   "name": "python3"
  },
  "language_info": {
   "codemirror_mode": {
    "name": "ipython",
    "version": 3
   },
   "file_extension": ".py",
   "mimetype": "text/x-python",
   "name": "python",
   "nbconvert_exporter": "python",
   "pygments_lexer": "ipython3",
   "version": "3.7.4"
  }
 },
 "nbformat": 4,
 "nbformat_minor": 5
}
