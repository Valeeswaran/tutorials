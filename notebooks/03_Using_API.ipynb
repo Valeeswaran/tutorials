{
 "cells": [
  {
   "cell_type": "markdown",
   "id": "991ffafd",
   "metadata": {},
   "source": [
    "## Extracting Data Using APIs"
   ]
  },
  {
   "cell_type": "markdown",
   "id": "17d68bc1",
   "metadata": {},
   "source": [
    "### import package"
   ]
  },
  {
   "cell_type": "code",
   "execution_count": 1,
   "id": "1ab5c3b4",
   "metadata": {},
   "outputs": [],
   "source": [
    "import requests"
   ]
  },
  {
   "cell_type": "markdown",
   "id": "0630d130",
   "metadata": {},
   "source": [
    "### basic usage"
   ]
  },
  {
   "cell_type": "code",
   "execution_count": 12,
   "id": "694b0c39",
   "metadata": {},
   "outputs": [],
   "source": [
    "# url\n",
    "url = 'https://data.gov.sg/api/action/datastore_search?resource_id=bf8bfcb3-efbd-4d76-bc69-7336f4443f93&limit=5'"
   ]
  },
  {
   "cell_type": "code",
   "execution_count": 13,
   "id": "0eb301a6",
   "metadata": {},
   "outputs": [],
   "source": [
    "# using get command, returns reponse object\n",
    "result = requests.get(url)"
   ]
  },
  {
   "cell_type": "code",
   "execution_count": 14,
   "id": "1efb361d",
   "metadata": {},
   "outputs": [
    {
     "data": {
      "text/plain": [
       "200"
      ]
     },
     "execution_count": 14,
     "metadata": {},
     "output_type": "execute_result"
    }
   ],
   "source": [
    "# exploring response object : status_code\n",
    "result.status_code"
   ]
  },
  {
   "cell_type": "code",
   "execution_count": 15,
   "id": "60a395d7",
   "metadata": {},
   "outputs": [
    {
     "data": {
      "text/plain": [
       "{'Date': 'Fri, 07 Jan 2022 16:00:02 GMT', 'Content-Type': 'application/json;charset=utf-8', 'Transfer-Encoding': 'chunked', 'Connection': 'keep-alive', 'Vary': 'Accept-Encoding', 'Pragma': 'no-cache', 'Cache-Control': 'max-age=300', 'Access-Control-Allow-Origin': '*', 'Strict-Transport-Security': 'max-age=0', 'X-XSS-Protection': '1; mode=block', 'Content-Encoding': 'gzip', 'CF-Cache-Status': 'MISS', 'Last-Modified': 'Fri, 07 Jan 2022 16:00:02 GMT', 'Expect-CT': 'max-age=604800, report-uri=\"https://report-uri.cloudflare.com/cdn-cgi/beacon/expect-ct\"', 'X-Content-Type-Options': 'nosniff', 'Server': 'cloudflare', 'CF-RAY': '6c9e65878b5a2ea4-SIN'}"
      ]
     },
     "execution_count": 15,
     "metadata": {},
     "output_type": "execute_result"
    }
   ],
   "source": [
    "# exploring response object : headers\n",
    "result.headers"
   ]
  },
  {
   "cell_type": "code",
   "execution_count": 16,
   "id": "0e05b3f7",
   "metadata": {},
   "outputs": [
    {
     "data": {
      "text/plain": [
       "'{\"help\": \"https://data.gov.sg/api/3/action/help_show?name=datastore_search\", \"success\": true, \"result\": {\"resource_id\": \"bf8bfcb3-efbd-4d76-bc69-7336f4443f93\", \"fields\": [{\"type\": \"int4\", \"id\": \"_id\"}, {\"type\": \"text\", \"id\": \"month\"}, {\"type\": \"text\", \"id\": \"level_1\"}, {\"type\": \"text\", \"id\": \"value\"}], \"records\": [{\"_id\": 1, \"level_1\": \"All Items Less Accommodation\", \"value\": \"96.013\", \"month\": \"2016-07\"}, {\"_id\": 2, \"level_1\": \"All Items\", \"value\": \"98.657\", \"month\": \"2016-08\"}, {\"_id\": 3, \"level_1\": \"All Items Less Imputed Rentals On Owner-occupied Accommodation\", \"value\": \"96.59\", \"month\": \"2016-08\"}, {\"_id\": 4, \"level_1\": \"All Items Less Accommodation\", \"value\": \"96.253\", \"month\": \"2016-08\"}, {\"_id\": 5, \"level_1\": \"All Items\", \"value\": \"98.666\", \"month\": \"2016-09\"}], \"_links\": {\"start\": \"/api/action/datastore_search?limit=5&resource_id=bf8bfcb3-efbd-4d76-bc69-7336f4443f93\", \"next\": \"/api/action/datastore_search?offset=5&limit=5&resource_id=bf8bfcb3-efbd-4d76-bc69-7336f4443f93\"}, \"limit\": 5, \"total\": 2386}}'"
      ]
     },
     "execution_count": 16,
     "metadata": {},
     "output_type": "execute_result"
    }
   ],
   "source": [
    "# exploring response object : text\n",
    "result.text"
   ]
  },
  {
   "cell_type": "code",
   "execution_count": 17,
   "id": "d066e89b",
   "metadata": {},
   "outputs": [
    {
     "data": {
      "text/plain": [
       "{'help': 'https://data.gov.sg/api/3/action/help_show?name=datastore_search',\n",
       " 'success': True,\n",
       " 'result': {'resource_id': 'bf8bfcb3-efbd-4d76-bc69-7336f4443f93',\n",
       "  'fields': [{'type': 'int4', 'id': '_id'},\n",
       "   {'type': 'text', 'id': 'month'},\n",
       "   {'type': 'text', 'id': 'level_1'},\n",
       "   {'type': 'text', 'id': 'value'}],\n",
       "  'records': [{'_id': 1,\n",
       "    'level_1': 'All Items Less Accommodation',\n",
       "    'value': '96.013',\n",
       "    'month': '2016-07'},\n",
       "   {'_id': 2, 'level_1': 'All Items', 'value': '98.657', 'month': '2016-08'},\n",
       "   {'_id': 3,\n",
       "    'level_1': 'All Items Less Imputed Rentals On Owner-occupied Accommodation',\n",
       "    'value': '96.59',\n",
       "    'month': '2016-08'},\n",
       "   {'_id': 4,\n",
       "    'level_1': 'All Items Less Accommodation',\n",
       "    'value': '96.253',\n",
       "    'month': '2016-08'},\n",
       "   {'_id': 5, 'level_1': 'All Items', 'value': '98.666', 'month': '2016-09'}],\n",
       "  '_links': {'start': '/api/action/datastore_search?limit=5&resource_id=bf8bfcb3-efbd-4d76-bc69-7336f4443f93',\n",
       "   'next': '/api/action/datastore_search?offset=5&limit=5&resource_id=bf8bfcb3-efbd-4d76-bc69-7336f4443f93'},\n",
       "  'limit': 5,\n",
       "  'total': 2386}}"
      ]
     },
     "execution_count": 17,
     "metadata": {},
     "output_type": "execute_result"
    }
   ],
   "source": [
    "# exploring response object : json\n",
    "result.json()"
   ]
  },
  {
   "cell_type": "code",
   "execution_count": null,
   "id": "f957ed24",
   "metadata": {},
   "outputs": [],
   "source": []
  }
 ],
 "metadata": {
  "kernelspec": {
   "display_name": "Python 3 (ipykernel)",
   "language": "python",
   "name": "python3"
  },
  "language_info": {
   "codemirror_mode": {
    "name": "ipython",
    "version": 3
   },
   "file_extension": ".py",
   "mimetype": "text/x-python",
   "name": "python",
   "nbconvert_exporter": "python",
   "pygments_lexer": "ipython3",
   "version": "3.7.4"
  }
 },
 "nbformat": 4,
 "nbformat_minor": 5
}
